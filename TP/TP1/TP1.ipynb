{
 "cells": [
  {
   "cell_type": "markdown",
   "id": "a225423a-afce-4b42-aa45-79b5b8305a9c",
   "metadata": {},
   "source": [
    "Programme Hello world"
   ]
  },
  {
   "cell_type": "code",
   "execution_count": 1,
   "id": "5b043e96-c3e1-45a4-919a-bb6e92d2541c",
   "metadata": {},
   "outputs": [
    {
     "name": "stdout",
     "output_type": "stream",
     "text": [
      "Hello world\n"
     ]
    }
   ],
   "source": [
    "def main():\n",
    "    print('Hello world')\n",
    "\n",
    "\n",
    "if __name__ == '__main__':\n",
    "    main()"
   ]
  },
  {
   "cell_type": "markdown",
   "id": "1c2179e1-c582-4763-9de9-b5805020a336",
   "metadata": {},
   "source": [
    "\n"
   ]
  },
  {
   "cell_type": "markdown",
   "id": "5269b5e3-2ea1-4b7d-a8e2-d7369e258fa2",
   "metadata": {},
   "source": [
    "Exercice 1 : Ecrire un programme qui calcule la surface d’un cercle en fonction de la\n",
    "saisie du rayon."
   ]
  },
  {
   "cell_type": "code",
   "execution_count": 11,
   "id": "5a3996a9-5138-419d-bf35-a5810fa106f8",
   "metadata": {},
   "outputs": [
    {
     "name": "stdin",
     "output_type": "stream",
     "text": [
      "Entrez le rayon du cercle :  22\n"
     ]
    },
    {
     "name": "stdout",
     "output_type": "stream",
     "text": [
      "La surface du cercle est : 1520.53084433746\n"
     ]
    }
   ],
   "source": [
    "from math import *\n",
    "def main():\n",
    "    rayon = float(input('Entrez le rayon du cercle : '))\n",
    "    print(f\"La surface du cercle est : {pi * rayon ** 2}\")\n",
    "\n",
    "if __name__ == '__main__':\n",
    "    main()"
   ]
  },
  {
   "cell_type": "markdown",
   "id": "5a18ff01-2f8f-4fdc-b4d7-3b0d729ac1e9",
   "metadata": {},
   "source": [
    "Écrire \"from math import * \" au lieu de \"import math\" permet d'écrire \"pi\" au lieu de \"math.pi\""
   ]
  },
  {
   "cell_type": "markdown",
   "id": "29ab2243-e835-41c1-adb5-560790f66ac5",
   "metadata": {},
   "source": [
    "\n"
   ]
  },
  {
   "cell_type": "markdown",
   "id": "b8e56ae4-c4e7-4411-bb2c-50d9919177f0",
   "metadata": {},
   "source": [
    "Exercice 2 : Ecrire un programme qui demande deux nombres à l’utilisateur et\n",
    "l’informe ensuite si leur produit est négatif ou positif."
   ]
  },
  {
   "cell_type": "code",
   "execution_count": 17,
   "id": "dd26d97a-31fc-43b0-9c94-fc91ac732925",
   "metadata": {
    "tags": []
   },
   "outputs": [
    {
     "name": "stdin",
     "output_type": "stream",
     "text": [
      "Entrez un nombre :  4\n",
      "Entrez un nombre :  -5\n"
     ]
    },
    {
     "name": "stdout",
     "output_type": "stream",
     "text": [
      "Le produit des deux nombres est négatif\n"
     ]
    }
   ],
   "source": [
    "def main():\n",
    "    x = float(input('Entrez un nombre : '))\n",
    "    y = float(input('Entrez un nombre : '))\n",
    "    if x * y > 0 : print(\"Le produit des deux nombres est positif\")\n",
    "    elif x * y < 0 : print(\"Le produit des deux nombres est négatif\")\n",
    "    else : print(\"Le produit des deux nombres est nul\")\n",
    "\n",
    "if __name__ == '__main__':\n",
    "    main()"
   ]
  },
  {
   "cell_type": "markdown",
   "id": "e4808f21-33b1-4af3-98fe-aeeda3bc6e33",
   "metadata": {},
   "source": [
    "On prend ici également en compte le cas x * y = 0"
   ]
  },
  {
   "cell_type": "markdown",
   "id": "be83a5dc-7e67-4494-9200-76b5ee12734a",
   "metadata": {},
   "source": [
    "\n"
   ]
  },
  {
   "cell_type": "markdown",
   "id": "92db0277-7f79-49f4-98f4-d3086d578397",
   "metadata": {},
   "source": [
    "Exercice 3 : Ecrire un programme qui calcule son factoriel en fonction d’un entier"
   ]
  },
  {
   "cell_type": "code",
   "execution_count": 8,
   "id": "a828727b-608b-4ede-b856-a784c2d9b61b",
   "metadata": {},
   "outputs": [
    {
     "name": "stdin",
     "output_type": "stream",
     "text": [
      "Entrez un nombre :  6\n"
     ]
    },
    {
     "name": "stdout",
     "output_type": "stream",
     "text": [
      "Le factoriel de 6 est 720\n"
     ]
    }
   ],
   "source": [
    "def main():\n",
    "    x = int(input('Entrez un nombre : '))\n",
    "    factoriel = 1\n",
    "    for i in range(2, x+1):\n",
    "        factoriel *= i\n",
    "    print(f\"Le factoriel de {x} est {factoriel}\")\n",
    "\n",
    "if __name__ == '__main__':\n",
    "    main()"
   ]
  },
  {
   "cell_type": "markdown",
   "id": "9820b38f-2f3c-487b-8e6a-ba05f56d1fcd",
   "metadata": {},
   "source": [
    "On initialise factoriel à 1 car nous allors par la suite multiplier sa valeur\n",
    "On multiplie entre 2 et x (inutile de multiplier par 1)"
   ]
  },
  {
   "cell_type": "markdown",
   "id": "e285d5ea-d533-43eb-9875-8cb154e1c17e",
   "metadata": {},
   "source": [
    "\n"
   ]
  },
  {
   "cell_type": "markdown",
   "id": "c7ee2904-76a5-48f6-84c2-432bc4c84d68",
   "metadata": {},
   "source": [
    "Exercice 4 : Une année est bissextile si elle est divisible par 4 mais non divisible\n",
    "par 100. Les années divisibles par 400 sont également bissextiles."
   ]
  },
  {
   "cell_type": "code",
   "execution_count": 18,
   "id": "3f159025-01b8-45b4-b320-d3db0e1d1651",
   "metadata": {},
   "outputs": [
    {
     "name": "stdin",
     "output_type": "stream",
     "text": [
      "Entrez année :  1600\n"
     ]
    },
    {
     "name": "stdout",
     "output_type": "stream",
     "text": [
      "L'année 1600 est bissextile.\n"
     ]
    }
   ],
   "source": [
    "def main():\n",
    "    annee = int(input(\"Entrez année : \"))\n",
    "    if annee % 4 == 0 and (annee % 100 != 0 or annee % 400 == 0):\n",
    "        print(f\"L'année {annee} est bissextile.\")\n",
    "    else:\n",
    "        print(f\"L'année {annee} est non bissextile.\")\n",
    "\n",
    "if __name__ == '__main__':\n",
    "    main()"
   ]
  },
  {
   "cell_type": "markdown",
   "id": "d7c845a2-ebd9-40a8-a148-1b84dc828ec7",
   "metadata": {},
   "source": []
  },
  {
   "cell_type": "markdown",
   "id": "6ccc4a84-c45a-4226-9916-cc46e8ec6ba7",
   "metadata": {},
   "source": [
    "Exercice 5 : Ecrire un programme qui demande à l’utilisateur les coordonnées de deux\n",
    "points dans le plan et qui calcul et puis affiche la distance entre ces points\n",
    "selon la formule."
   ]
  },
  {
   "cell_type": "code",
   "execution_count": 12,
   "id": "6117b9cc-b50e-4764-a3e0-d35c38eae167",
   "metadata": {},
   "outputs": [
    {
     "name": "stdin",
     "output_type": "stream",
     "text": [
      "Entrez abscisse point A :  4\n",
      "Entrez ordonée point A :  -5\n",
      "Entrez abscisse point B :  9\n",
      "Entrez ordonée point B :  4\n"
     ]
    },
    {
     "name": "stdout",
     "output_type": "stream",
     "text": [
      "La distance entre A et B est 10.295630140987\n"
     ]
    }
   ],
   "source": [
    "from math import *\n",
    "def main():\n",
    "    x_1 = float(input('Entrez abscisse point A : '))\n",
    "    y_1 = float(input('Entrez ordonée point A : '))\n",
    "    x_2 = float(input('Entrez abscisse point B : '))\n",
    "    y_2 = float(input('Entrez ordonée point B : '))\n",
    "    print(f\"La distance entre A et B est {sqrt((x_2 - x_1) ** 2 + (y_2 - y_1) ** 2)}\")\n",
    "\n",
    "if __name__ == '__main__':\n",
    "    main()"
   ]
  },
  {
   "cell_type": "markdown",
   "id": "96ee02de-44b6-49a8-9abe-7e74bf6389af",
   "metadata": {},
   "source": [
    "On importe les fonctions de math pour avoir sqrt()"
   ]
  },
  {
   "cell_type": "markdown",
   "id": "0aa19853-bc65-4b4f-ae2b-f9d957af7706",
   "metadata": {},
   "source": []
  },
  {
   "cell_type": "markdown",
   "id": "755b7866-7ae4-496b-ba64-daa63656663d",
   "metadata": {},
   "source": [
    "Exercice 6 : Déclarer un tableau avec ses valeurs [7, 5, 4, 9, 3] , et de les trier par ordre\n",
    "croissant."
   ]
  },
  {
   "cell_type": "code",
   "execution_count": 14,
   "id": "2022c0d6-ad10-424f-8501-e65e981d62be",
   "metadata": {},
   "outputs": [
    {
     "name": "stdout",
     "output_type": "stream",
     "text": [
      "[3, 4, 5, 7, 9]\n"
     ]
    }
   ],
   "source": [
    "def main():\n",
    "    tableau = [7, 5, 4, 9, 3]\n",
    "    tableau.sort()\n",
    "    print(tableau)\n",
    "\n",
    "if __name__ == '__main__':\n",
    "    main()"
   ]
  },
  {
   "cell_type": "markdown",
   "id": "8364545b-0cb3-4f55-92df-828f6c3eee4e",
   "metadata": {},
   "source": []
  }
 ],
 "metadata": {
  "kernelspec": {
   "display_name": "Python 3 (ipykernel)",
   "language": "python",
   "name": "python3"
  },
  "language_info": {
   "codemirror_mode": {
    "name": "ipython",
    "version": 3
   },
   "file_extension": ".py",
   "mimetype": "text/x-python",
   "name": "python",
   "nbconvert_exporter": "python",
   "pygments_lexer": "ipython3",
   "version": "3.9.5"
  }
 },
 "nbformat": 4,
 "nbformat_minor": 5
}
