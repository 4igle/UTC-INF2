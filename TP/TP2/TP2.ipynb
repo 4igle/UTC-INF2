{
 "cells": [
  {
   "cell_type": "markdown",
   "id": "ee4eb1d9-634a-48c5-a75a-32b6c6d2a921",
   "metadata": {},
   "source": [
    "Rapport INF2 TP\n",
   ]
  },
  {
   "cell_type": "markdown",
   "id": "3c959eb1-ed1f-41b0-a9be-1b0f187f3d65",
   "metadata": {},
   "source": [
    "Ex1:\n",
    "\n",
    "Un mot est un palindrome si on peut le lire dans les deux sens de gauche à droite et de droite à\n",
    "gauche. Exemple kayak est un palindrome.\n",
    "Ecrire une fonction récursive permettant de vérifier si un mot est un palindrome."
   ]
  },
  {
   "cell_type": "code",
   "execution_count": 4,
   "id": "1aa11522-aff7-4009-95f2-2935296cb648",
   "metadata": {},
   "outputs": [
    {
     "name": "stdin",
     "output_type": "stream",
     "text": [
      "Entrez un mot :  kayak\n"
     ]
    },
    {
     "name": "stdout",
     "output_type": "stream",
     "text": [
      "\"kayak\" est un palindrome\n"
     ]
    }
   ],
   "source": [
    "def palindrome(ch):\n",
    "    if ch[0] == ch[-1]:\n",
    "        if len(ch) <= 2:\n",
    "            return True\n",
    "        else:\n",
    "            return palindrome(ch[1:-1])\n",
    "    else: return False\n",
    "\n",
    "def main():\n",
    "    ch1 = input(\"Entrez un mot : \")\n",
    "    if palindrome(ch1):\n",
    "        print(f\"\\\"{ch1}\\\" est un palindrome\")\n",
    "    else:\n",
    "        print(f\"\\\"{ch1}\\\" n'est pas un palindrome\")\n",
    "\n",
    "if __name__ == '__main__':\n",
    "    main()"
   ]
  },
  {
   "cell_type": "markdown",
   "id": "2dffd773-6a2f-4a12-994c-7e5cdcfc2be5",
   "metadata": {},
   "source": [
    "ch[0] == ch[-1] : permet de comparer le premier et dernier caractère\n",
    "\n",
    "len(ch) <= 2 : si premier caractère = dernier caractère et que le mot a 1 ou 2 caractères en tout, c'est un palindrome\n",
    "\n",
    "return palindrome(ch[1:-1]) -> faire la vérification sur le mot en enlevant le premier et dernier caractère qui\n",
    "ont déja été vérifiés (le nouveau mot va de ch[1] à ch[-2], du 2eme à l'avant dernier caractère)"
   ]
  },
  {
   "cell_type": "markdown",
   "id": "2720de59-a2b5-4129-91fd-c703e372862e",
   "metadata": {},
   "source": []
  },
  {
   "cell_type": "markdown",
   "id": "01ad023a-9ec2-4c18-9d55-8b48a53e99ca",
   "metadata": {},
   "source": [
    "Ex2:\n",
    "\n",
    "Ecrire un programme qui consiste à décaler les lettres d’un message pour le rendre illisible. Ainsi\n",
    "les A deviennent des B, les B des C, etc. Et les Z deviennent des A. Vous devrez mettre en place la\n",
    "fonction “crypter(ch )” qui retournera la chaine crypter, ch est la chaine que l’utilisateur saisira. "
   ]
  },
  {
   "cell_type": "code",
   "execution_count": 7,
   "id": "42a5ccc5-3623-4190-a7d5-5ebc5643665c",
   "metadata": {},
   "outputs": [
    {
     "name": "stdin",
     "output_type": "stream",
     "text": [
      "Entrez le message à crypter :  abcz ABCZ\n"
     ]
    },
    {
     "name": "stdout",
     "output_type": "stream",
     "text": [
      "Le message crypté est : bcda BCDA\n"
     ]
    }
   ],
   "source": [
    "from string import ascii_letters as alphabet\n",
    "\n",
    "def crypter(ch):\n",
    "    x = ''\n",
    "    for i in ch:\n",
    "        if i in alphabet:\n",
    "            if i == 'z' :\n",
    "                x += 'a'\n",
    "            elif i == 'Z' :\n",
    "                x += 'A'\n",
    "            else :\n",
    "                x += alphabet[alphabet.index(i) + 1]\n",
    "        else:\n",
    "            x += i \n",
    "    return(x)\n",
    "\n",
    "def main():\n",
    "    ch1 = input(\"Entrez le message à crypter : \")\n",
    "    print(f\"Le message crypté est : {crypter(ch1)}\")\n",
    "\n",
    "if __name__ == '__main__':\n",
    "    main()\n"
   ]
  },
  {
   "cell_type": "markdown",
   "id": "5da71344-45a4-437a-b5da-105780798865",
   "metadata": {},
   "source": [
    "from string import ascii_letters as alphabet: permet d'importer les lettres de l'alphabet et de prendre en compte les lettres minuscules et majuscules\n",
    "\n",
    "La chaine ascii_letters, ici sous l'alias 'alphabet' contient : 'abcdefghijklmnopqrstuvwxyzABCDEFGHIJKLMNOPQRSTUVWXYZ', soit l'alphabet en minuscule suivi de l'alphabet en majuscule.\n",
    "\n",
    "Pour créer la chaine cryptée, il suffit de créer une nouvelle chaine vide, et d'analyser caractère par caractère\n",
    "la chaine à crypter (for i in ch).\n",
    "\n",
    "On ajoute ensuite le caractère suivant dans l'alphabet dans notre liste vide grace à\n",
    "x += alphabet[alphabet.index(i) + 1] (index dans l'aphabet + 1 aussi bien en majuscule qu'en minuscule)\n",
    "\n",
    "On vérifie manuellement si le caractère est 'z' ou 'Z' pour remplacer par 'a' ou 'A' et non le caractère à l'index suivant.\n",
    "\n",
    "Au début de la boucle, on vérifie aussi que le caractère est dans l'aphabet. Si le caractère étudié n'est pas dans l'aphabet, on ne le modifie pas."
   ]
  },
  {
   "cell_type": "markdown",
   "id": "3c2b8dd3-bcf5-4e91-9c9b-94bb67881fa6",
   "metadata": {},
   "source": []
  },
  {
   "cell_type": "markdown",
   "id": "7b14ca5e-a951-4f03-ad86-261e633bc704",
   "metadata": {},
   "source": [
    "Ex3:\n",
    "\n",
    "Un administrateur d’un site web veut assurer un maximum de sécurité pour les utilisateurs du site.\n",
    "Pour ceci il décide de réaliser une application qui évalue la force des mots de passe des différents\n",
    "utilisateur du site, sachant qu’un mot de passe est une chaine de caractères qui ne comporte pas\n",
    "d’espaces.\n",
    "La force d’un mot de passe varie, selon la valeur d’un score calculé, de ‘Très faible’ à ‘Très fort’."
   ]
  },
  {
   "cell_type": "markdown",
   "id": "0c890af4-2fbc-442d-959e-498f71167344",
   "metadata": {},
   "source": [
    "Ecrire une fonction NBMin(password) qui retourne le nombre de caractères minuscules."
   ]
  },
  {
   "cell_type": "code",
   "execution_count": 11,
   "id": "35cdded0-f3a0-4654-9757-36f8de3b964c",
   "metadata": {},
   "outputs": [],
   "source": [
    "import string\n",
    "\n",
    "def NBMin(password):\n",
    "    return len([x for x in password if x in string.ascii_lowercase])"
   ]
  },
  {
   "cell_type": "markdown",
   "id": "3e746a84-dfb2-4032-8500-df9ca1eb4e4d",
   "metadata": {},
   "source": [
    "[x for x in password if x in string.ascii_lowercase] est une liste contenant toutes les minuscules de la chaîne passée en paramètre car on rajoute un élément à la liste uniquement si il fait partie de la chaîne ET qu'il soit dans string.ascii_lowercase, donc que ce soit une lettre minuscule\n",
    "\n",
    "len([x for x in password if x in string.ascii_lowercase]) est la taille de cette liste, son nombre d'éléments et donc le nombre de lettres minuscules."
   ]
  },
  {
   "cell_type": "code",
   "execution_count": 20,
   "id": "3302e395-c1ff-446a-a597-707d7964e1c2",
   "metadata": {},
   "outputs": [
    {
     "name": "stdout",
     "output_type": "stream",
     "text": [
      "19\n"
     ]
    }
   ],
   "source": [
    "print(NBMin(\"Bonjour je m'appelle @Prenom238\"))"
   ]
  },
  {
   "cell_type": "markdown",
   "id": "7c5be76d-92e8-4195-8575-9f44f4c005a6",
   "metadata": {},
   "source": [
    "La liste ['o', 'n', 'j', 'o', 'u', 'r', 'j', 'e', 'm', 'a', 'p', 'p', 'e', 'l', 'l', 'e', 'h', 'e', 'o'] contient bien 19 éléments"
   ]
  },
  {
   "cell_type": "markdown",
   "id": "2e1b26a3-d574-4c38-9139-28452f5839b4",
   "metadata": {},
   "source": []
  },
  {
   "cell_type": "markdown",
   "id": "e08b6b1d-aee2-43f6-addf-6c8ef9554d1f",
   "metadata": {},
   "source": [
    "Ecrire une fonction NBMaj(password) qui retourne le nombre de caractères majuscules."
   ]
  },
  {
   "cell_type": "code",
   "execution_count": 17,
   "id": "9abc16ec-82d4-4298-9328-69d10c077965",
   "metadata": {},
   "outputs": [],
   "source": [
    "def NBMaj(password):\n",
    "    return len([x for x in password if x in string.ascii_uppercase])"
   ]
  },
  {
   "cell_type": "markdown",
   "id": "446fcc9e-7247-48fa-9c1d-053bcddae3c5",
   "metadata": {},
   "source": [
    "[x for x in password if x in string.ascii_uppercase] est une liste contenant toutes les majuscules de la chaîne\n",
    "passée en paramètre car on rajoute un élément à la liste uniquement si il fait partie de la chaîne ET qu'il soit dans string.ascii_uppercase, donc que ce soit une lettre majuscule\n",
    "\n",
    "len([x for x in password if x in string.ascii_uppercase]) est la taille de cette liste, son nombre d'éléments et donc le nombre de lettres majuscules."
   ]
  },
  {
   "cell_type": "code",
   "execution_count": 21,
   "id": "e6d72834-0849-4b7a-b05c-e2d3b0eb2fed",
   "metadata": {},
   "outputs": [
    {
     "name": "stdout",
     "output_type": "stream",
     "text": [
      "2\n"
     ]
    }
   ],
   "source": [
    "print(NBMaj(\"Bonjour je m'appelle @Prenom238\"))"
   ]
  },
  {
   "cell_type": "markdown",
   "id": "2e5e48d1-73aa-4b70-b7aa-4583800d7952",
   "metadata": {},
   "source": [
    "La liste ['B', 'T'] contient bien 2 éléments"
   ]
  },
  {
   "cell_type": "markdown",
   "id": "23d3d4a4-5347-4411-960f-50da560d2177",
   "metadata": {},
   "source": []
  },
  {
   "cell_type": "markdown",
   "id": "a8b95ec1-fbf7-4f5e-b700-567dcbd9899b",
   "metadata": {},
   "source": [
    "Ecrire une fonction NBAlpha(password) qui retourne le nombre de caractères non\n",
    "alphabétiques."
   ]
  },
  {
   "cell_type": "code",
   "execution_count": 19,
   "id": "f2c6f65e-c98f-44b1-afb0-a1cd89c187f3",
   "metadata": {},
   "outputs": [],
   "source": [
    "def NBAlpha(password):\n",
    "    return len([x for x in password if x not in string.ascii_letters])"
   ]
  },
  {
   "cell_type": "markdown",
   "id": "f862fac2-e01b-4041-ab19-10a0ca921639",
   "metadata": {},
   "source": [
    "[x for x in password if x not in string.ascii_letters] est une liste contenant tous les caractères non alphabétiques de la chaîne passée en paramètre car on rajoute un élément à la liste uniquement si il ne fait pas partie de la chaîne ET qu'il ne soit pas dans string.ascii_letters, donc que ce soit un caractère non alphabétique\n",
    "\n",
    "len([x for x in password if x not in string.ascii_letters]) est la taille de cette liste, son nombre d'éléments et donc le nombre de caractères non alphabétiques."
   ]
  },
  {
   "cell_type": "code",
   "execution_count": 22,
   "id": "1dc6dbd3-ffce-4dd0-8287-925f9f29b536",
   "metadata": {},
   "outputs": [
    {
     "name": "stdout",
     "output_type": "stream",
     "text": [
      "8\n"
     ]
    }
   ],
   "source": [
    "print(NBAlpha(\"Bonjour je m'appelle @Prenom238\"))"
   ]
  },
  {
   "cell_type": "markdown",
   "id": "a062e924-0f34-4486-8449-e0830e0176ef",
   "metadata": {},
   "source": [
    "La liste [\" \", \" \", \"'\", \" \", \"@\", \"2\", \"3\", \"8\"] contient bien 8 éléments"
   ]
  },
  {
   "cell_type": "markdown",
   "id": "ca72663f-8557-40ef-b754-412ed4b7066d",
   "metadata": {},
   "source": []
  },
  {
   "cell_type": "markdown",
   "id": "d39ffaa4-9c56-4ae3-b295-0ddc2060f8b1",
   "metadata": {},
   "source": [
    "Ecrire une fonction LongMin(password) qui retourne la longueur de la plus longue\n",
    "séquence de lettres minuscules."
   ]
  },
  {
   "cell_type": "code",
   "execution_count": 24,
   "id": "28f0a630-7090-4128-816e-7e75dc66ee37",
   "metadata": {},
   "outputs": [],
   "source": [
    "def LongMin(password):\n",
    "    max = 0\n",
    "    compteur = 0\n",
    "    for i in password:\n",
    "        if i in string.ascii_lowercase:\n",
    "            compteur += 1\n",
    "        else:\n",
    "            if compteur > max : max = compteur\n",
    "            compteur = 0\n",
    "    return max"
   ]
  },
  {
   "cell_type": "markdown",
   "id": "4fa873fb-f42b-45ad-80ab-2faa5d5522f2",
   "metadata": {},
   "source": [
    "On parcourt la chaîne de caractères en comptant les suites de caractères minuscule, la valeur de chaque suite est contenue dans 'compteur', et la valeur de la suite maximale dans 'max'. "
   ]
  },
  {
   "cell_type": "code",
   "execution_count": 25,
   "id": "66b5b3ad-1ded-4055-b341-76cdd21fcd80",
   "metadata": {},
   "outputs": [
    {
     "name": "stdout",
     "output_type": "stream",
     "text": [
      "7\n"
     ]
    }
   ],
   "source": [
    "print(LongMin(\"Bonjour je m'appelle @Prenom238\"))"
   ]
  },
  {
   "cell_type": "markdown",
   "id": "73cc641e-603e-48f1-a76c-bee47307dfd9",
   "metadata": {},
   "source": [
    "La plus grande suite de lettres minuscules est 'appelle'"
   ]
  },
  {
   "cell_type": "code",
   "execution_count": 26,
   "id": "67d2f1bf-3259-4246-b796-c35dd587d821",
   "metadata": {},
   "outputs": [
    {
     "name": "stdout",
     "output_type": "stream",
     "text": [
      "3\n"
     ]
    }
   ],
   "source": [
    "print(LongMin(\"aad@daa dd dd,dd)ddAsz8ss\"))"
   ]
  },
  {
   "cell_type": "markdown",
   "id": "6c46e796-f133-4ba3-9de5-3274a68fc754",
   "metadata": {},
   "source": [
    "Comme on peut le voir, le compteur s'arrête au moindre caractère n'étant pas dans l'intervalle 'a-z'"
   ]
  },
  {
   "cell_type": "markdown",
   "id": "be5f682a-57db-4f54-a54f-31da436893fd",
   "metadata": {},
   "source": []
  },
  {
   "cell_type": "markdown",
   "id": "de73a79e-87fa-4443-896b-d6993233d9e8",
   "metadata": {},
   "source": [
    "Ecrire une fonction LongMaj(password) qui retourne la longueur de la plus longue\n",
    "séquence de lettres majuscules."
   ]
  },
  {
   "cell_type": "code",
   "execution_count": 27,
   "id": "0f98b2bb-f51a-4884-ae6a-300a015237e2",
   "metadata": {},
   "outputs": [],
   "source": [
    "def LongMaj(password):\n",
    "    max = 0\n",
    "    compteur = 0\n",
    "    for i in password:\n",
    "        if i in string.ascii_uppercase:\n",
    "            compteur += 1\n",
    "        else:\n",
    "            if compteur > max : max = compteur\n",
    "            compteur = 0\n",
    "    return max"
   ]
  },
  {
   "cell_type": "markdown",
   "id": "fdd7dd6a-bdf7-4c77-89b7-3aa1aab870b1",
   "metadata": {},
   "source": [
    "On parcourt la chaîne de caractères en comptant les suites de caractères majuscule, la valeur de chaque suite est contenue dans 'compteur', et la valeur de la suite maximale dans 'max'. "
   ]
  },
  {
   "cell_type": "code",
   "execution_count": 28,
   "id": "b3e56b5a-13de-4d20-96ef-3d2e9321fe0d",
   "metadata": {},
   "outputs": [
    {
     "name": "stdout",
     "output_type": "stream",
     "text": [
      "3\n"
     ]
    }
   ],
   "source": [
    "print(LongMaj(\"AAD@DAA DD DD,DD)DDaSZ8SS\"))"
   ]
  },
  {
   "cell_type": "markdown",
   "id": "4e7902b3-1db7-48d8-b3e4-b40f6b5dc0af",
   "metadata": {},
   "source": [
    "Comme on peut le voir, le compteur s'arrête au moindre caractère n'étant pas dans l'intervalle 'A-Z'"
   ]
  },
  {
   "cell_type": "markdown",
   "id": "5cd11f32-e8b7-49e1-bf58-f27466e2a13b",
   "metadata": {},
   "source": []
  },
  {
   "cell_type": "markdown",
   "id": "0b022de2-d12f-4aa2-a6f4-13f121f90d32",
   "metadata": {},
   "source": [
    "Ecrire une fonction Score(password) qui affiche la force du mot de passe.\n",
    "    • Si le score < 20, la force du mot de passe est ‘Très faible‘\n",
    "    • Sinon si le score < 40, la force du mot de passe est ‘Faible‘\n",
    "    • Sinon si le score < 80, la force du mot de passe est ‘Fort‘\n",
    "    • Sinon la force du mot de passe est ‘Très fort‘\n",
    "Le score se calcule en additionnant des bonus et en rentranchant des pénalités.\n",
    "Les bonus attribués sont :\n",
    "    • Nombre total de caractères * 4\n",
    "    • (Nombre total de caractères – nombre de lettres majuscules)*2\n",
    "    • (Nombre total de caractères – nombre de lettres minuscules)*3\n",
    "    • Nombre de caractères non alphabétiques*5\n",
    "Les pénalités imposées sont :\n",
    "    • La longueur de la plus longue séquence de lettres minuscules*2\n",
    "    • La longueur de la plus longue séquence de lettres majuscules*3"
   ]
  },
  {
   "cell_type": "code",
   "execution_count": 29,
   "id": "253e8e09-ab44-46e4-960e-310b2b184fcc",
   "metadata": {},
   "outputs": [],
   "source": [
    "def Score(password):\n",
    "    taille = len(password)\n",
    "    bonus_taille = taille * 4\n",
    "    bonus_maj = (taille - NBMaj(password)) * 2\n",
    "    bonus_min = (taille - NBMin(password)) * 3\n",
    "    bonus_alpha = NBAlpha(password) * 5\n",
    "    malus_min = LongMin(password) * 2\n",
    "    malus_maj = LongMaj(password) * 3\n",
    "    score = bonus_taille + bonus_min + bonus_maj + bonus_alpha - malus_min - malus_maj\n",
    "    if score < 20: return 'Très faible'\n",
    "    elif score < 40: return 'Faible'\n",
    "    elif score < 80: return 'Fort'\n",
    "    else: return 'Très fort'"
   ]
  },
  {
   "cell_type": "markdown",
   "id": "1668b5e3-d7e0-45dd-ad09-7c24f7a9e745",
   "metadata": {},
   "source": [
    "Les bonus et malus ont étés mis dans des variables pour la propreté.\n",
    "Chaque variable bonus et malus correspond à sa description.\n",
    "Le retour de la fonction est une chaîne de caractère dépendant directement du score ('Très fort', 'Faible' etc)"
   ]
  },
  {
   "cell_type": "code",
   "execution_count": 35,
   "id": "e673734c-7a70-455d-a954-ceb26cb648e4",
   "metadata": {},
   "outputs": [
    {
     "name": "stdout",
     "output_type": "stream",
     "text": [
      "Très fort\n"
     ]
    }
   ],
   "source": [
    "print(Score('@mot#de/passe'))"
   ]
  },
  {
   "cell_type": "code",
   "execution_count": 31,
   "id": "74e48e64-0c93-449f-bd15-ba816ba740a2",
   "metadata": {},
   "outputs": [
    {
     "name": "stdout",
     "output_type": "stream",
     "text": [
      "Très faible\n"
     ]
    }
   ],
   "source": [
    "print(Score('abc'))"
   ]
  },
  {
   "cell_type": "code",
   "execution_count": 34,
   "id": "b5a6be97-2971-4d73-bc31-8d4e5bb03e3a",
   "metadata": {},
   "outputs": [
    {
     "name": "stdout",
     "output_type": "stream",
     "text": [
      "Faible\n"
     ]
    }
   ],
   "source": [
    "print(Score('Prenom3'))"
   ]
  },
  {
   "cell_type": "code",
   "execution_count": 37,
   "id": "c8521bfd-1184-4911-b33b-80c1a1060a60",
   "metadata": {},
   "outputs": [
    {
     "name": "stdout",
     "output_type": "stream",
     "text": [
      "Fort\n"
     ]
    }
   ],
   "source": [
    "print(Score('InF2@'))"
   ]
  },
  {
   "cell_type": "markdown",
   "id": "10b29e4c-8030-448d-9ce4-b4992b9b8f57",
   "metadata": {},
   "source": [
    "Le retour est bien différent en fonction du score et donc en fonction de la complexité de la chaîne de caractères."
   ]
  },
  {
   "cell_type": "markdown",
   "id": "525b2258-5b36-49c4-a4a5-2b5b6d9dbd33",
   "metadata": {},
   "source": []
  },
  {
   "cell_type": "markdown",
   "id": "77ad5c9f-81f0-4e5a-987c-6e6e079304c3",
   "metadata": {},
   "source": [
    "Voici le programme principal : "
   ]
  },
  {
   "cell_type": "code",
   "execution_count": 38,
   "id": "a10120a5-6b91-4e9a-945b-626beae43e0b",
   "metadata": {},
   "outputs": [
    {
     "name": "stdin",
     "output_type": "stream",
     "text": [
      "Testez votre mot de passe :  INF2@utc###\n"
     ]
    },
    {
     "name": "stdout",
     "output_type": "stream",
     "text": [
      "La force de votre mot de passe est : Très fort\n"
     ]
    }
   ],
   "source": [
    "def main():\n",
    "    pass1 = input('Testez votre mot de passe : ')\n",
    "    print(f\"La force de votre mot de passe est : {Score(pass1)}\")\n",
    "\n",
    "if __name__ == '__main__':\n",
    "    main()"
   ]
  }
 ],
 "metadata": {
  "kernelspec": {
   "display_name": "Python 3 (ipykernel)",
   "language": "python",
   "name": "python3"
  },
  "language_info": {
   "codemirror_mode": {
    "name": "ipython",
    "version": 3
   },
   "file_extension": ".py",
   "mimetype": "text/x-python",
   "name": "python",
   "nbconvert_exporter": "python",
   "pygments_lexer": "ipython3",
   "version": "3.9.7"
  }
 },
 "nbformat": 4,
 "nbformat_minor": 5
}
